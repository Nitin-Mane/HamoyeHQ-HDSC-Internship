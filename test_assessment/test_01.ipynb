{
 "cells": [
  {
   "cell_type": "markdown",
   "id": "186af0cf-ed0c-4d7a-8617-87642ab933c9",
   "metadata": {},
   "source": [
    "# Hamoye Test 01"
   ]
  },
  {
   "cell_type": "code",
   "execution_count": 2,
   "id": "c50a093a-cb1b-4247-b202-4ed8b41ef1d2",
   "metadata": {},
   "outputs": [
    {
     "name": "stdout",
     "output_type": "stream",
     "text": [
      "Nigeria\n"
     ]
    }
   ],
   "source": [
    "import pandas as pd\n",
    "\n",
    "# The URL to the CSV file on GitHub\n",
    "data_url = './data/FoodBalanceSheets_E_Africa_NOFLAG.csv'\n",
    "\n",
    "# Load the dataset\n",
    "df = pd.read_csv(data_url, encoding='latin-1')\n",
    "\n",
    "# Select columns 'Y2017' and 'Area'\n",
    "data = df[['Area', 'Y2017']]\n",
    "\n",
    "# Perform a groupby operation on 'Area'\n",
    "grouped_data = data.groupby('Area').sum()\n",
    "\n",
    "# Find the area with the highest sum in 2017\n",
    "highest_sum_area = grouped_data['Y2017'].idxmax()\n",
    "\n",
    "print(highest_sum_area)\n"
   ]
  },
  {
   "cell_type": "code",
   "execution_count": 4,
   "id": "45554ac1-18b4-4c18-8bb3-33ab50f602ed",
   "metadata": {},
   "outputs": [
    {
     "data": {
      "text/plain": [
       "173.04999999999998"
      ]
     },
     "execution_count": 4,
     "metadata": {},
     "output_type": "execute_result"
    }
   ],
   "source": [
    "# Filter the data for Madagascar and the element corresponding to protein supply\n",
    "protein_supply = df[(df['Area'] == 'Madagascar') & (df['Element'] == 'Protein supply quantity (g/capita/day)')]\n",
    "\n",
    "# Sum the protein supply for the year 2015\n",
    "total_protein_2015 = protein_supply['Y2015'].sum()\n",
    "\n",
    "total_protein_2015"
   ]
  },
  {
   "cell_type": "code",
   "execution_count": 12,
   "id": "2d683057-778b-450a-87db-1f2f8507c959",
   "metadata": {},
   "outputs": [
    {
     "name": "stdout",
     "output_type": "stream",
     "text": [
      "1589\n",
      "2.607\n"
     ]
    }
   ],
   "source": [
    "# Find the total number of missing data points for 2014\n",
    "missing_data_2014 = df['Y2014'].isna().sum()\n",
    "\n",
    "# Find the total number of data points\n",
    "total_data_points = df['Y2014'].shape[0]\n",
    "\n",
    "# Calculate the percentage of missing data\n",
    "percentage_missing = (missing_data_2014 / total_data_points) * 100\n",
    "\n",
    "# Format the percentage to three decimal places\n",
    "formatted_percentage = f\"{percentage_missing:.3f}\"\n",
    "\n",
    "print(missing_data_2014)\n",
    "print(formatted_percentage)"
   ]
  },
  {
   "cell_type": "code",
   "execution_count": 13,
   "id": "f93b9ada-116a-431e-bd04-7f727c3a71bc",
   "metadata": {},
   "outputs": [
    {
     "data": {
      "text/plain": [
       "(4251.81, 4039.32)"
      ]
     },
     "execution_count": 13,
     "metadata": {},
     "output_type": "execute_result"
    }
   ],
   "source": [
    "# Perform a groupby sum aggregation on 'Item' for the years 2015 and 2018\n",
    "wine_production = df[df['Item'] == 'Wine'].groupby('Item').agg({'Y2015': 'sum', 'Y2018': 'sum'}).reset_index()\n",
    "\n",
    "wine_production_2015, wine_production_2018 = wine_production.iloc[0]['Y2015'], wine_production.iloc[0]['Y2018']\n",
    "wine_production_2015, wine_production_2018\n"
   ]
  },
  {
   "cell_type": "code",
   "execution_count": 14,
   "id": "ff5ebccd-4d4b-48ae-bd75-e1ae5a7da49a",
   "metadata": {},
   "outputs": [
    {
     "data": {
      "text/plain": [
       "'e'"
      ]
     },
     "execution_count": 14,
     "metadata": {},
     "output_type": "execute_result"
    }
   ],
   "source": [
    "S = [['him', 'sell'], [90, 28, 43]]\n",
    "\n",
    "S[0][1][1]"
   ]
  },
  {
   "cell_type": "code",
   "execution_count": 15,
   "id": "27aebf39-fdd3-481d-bedd-3f540cc60b14",
   "metadata": {},
   "outputs": [
    {
     "ename": "TypeError",
     "evalue": "'tuple' object does not support item assignment",
     "output_type": "error",
     "traceback": [
      "\u001b[1;31m---------------------------------------------------------------------------\u001b[0m",
      "\u001b[1;31mTypeError\u001b[0m                                 Traceback (most recent call last)",
      "Cell \u001b[1;32mIn[15], line 3\u001b[0m\n\u001b[0;32m      1\u001b[0m my_tuppy \u001b[38;5;241m=\u001b[39m (\u001b[38;5;241m1\u001b[39m,\u001b[38;5;241m2\u001b[39m,\u001b[38;5;241m5\u001b[39m,\u001b[38;5;241m8\u001b[39m)\n\u001b[1;32m----> 3\u001b[0m my_tuppy[\u001b[38;5;241m2\u001b[39m] \u001b[38;5;241m=\u001b[39m \u001b[38;5;241m6\u001b[39m\n",
      "\u001b[1;31mTypeError\u001b[0m: 'tuple' object does not support item assignment"
     ]
    }
   ],
   "source": [
    "my_tuppy = (1,2,5,8)\n",
    "\n",
    "my_tuppy[2] = 6"
   ]
  },
  {
   "cell_type": "code",
   "execution_count": 16,
   "id": "2869f998-a9a2-421e-8d5c-613b1cc96a24",
   "metadata": {},
   "outputs": [
    {
     "data": {
      "text/plain": [
       "('140.92', '1671.86')"
      ]
     },
     "execution_count": 16,
     "metadata": {},
     "output_type": "execute_result"
    }
   ],
   "source": [
    "# Calculate the mean and standard deviation for the year 2017 across the whole dataset\n",
    "mean_2017 = df['Y2017'].mean()\n",
    "std_dev_2017 = df['Y2017'].std()\n",
    "\n",
    "# Format the mean and standard deviation to two decimal places\n",
    "formatted_mean_2017 = f\"{mean_2017:.2f}\"\n",
    "formatted_std_dev_2017 = f\"{std_dev_2017:.2f}\"\n",
    "\n",
    "formatted_mean_2017, formatted_std_dev_2017\n"
   ]
  },
  {
   "cell_type": "code",
   "execution_count": 17,
   "id": "eed975d2-d5eb-446d-aa8d-786c270da6b8",
   "metadata": {},
   "outputs": [
    {
     "name": "stderr",
     "output_type": "stream",
     "text": [
      "C:\\Users\\mniti\\AppData\\Local\\Temp\\ipykernel_25804\\3788186845.py:4: FutureWarning: Series.__getitem__ treating keys as positions is deprecated. In a future version, integer keys will always be treated as labels (consistent with DataFrame behavior). To access a value by position, use `ser.iloc[pos]`\n",
      "  highest_stock_variation_year = stock_variation.idxmax()[0] # Find the index (year) of the max value\n"
     ]
    },
    {
     "data": {
      "text/plain": [
       "'Y2014'"
      ]
     },
     "execution_count": 17,
     "metadata": {},
     "output_type": "execute_result"
    }
   ],
   "source": [
    "# Perform a groupby operation on 'Element' and find the year with the highest sum of 'Stock Variation'\n",
    "stock_variation = df[df['Element'] == 'Stock Variation'].groupby('Element').agg({'Y2014': 'sum', 'Y2015': 'sum', 'Y2016': 'sum', 'Y2017': 'sum'})\n",
    "stock_variation = stock_variation.T # Transpose to make each year a row\n",
    "highest_stock_variation_year = stock_variation.idxmax()[0] # Find the index (year) of the max value\n",
    "\n",
    "highest_stock_variation_year\n"
   ]
  },
  {
   "cell_type": "code",
   "execution_count": 18,
   "id": "a93e7f0f-6491-43c6-bc47-b62316a96538",
   "metadata": {},
   "outputs": [
    {
     "data": {
      "text/plain": [
       "('Y2016', 0.02344399758496104)"
      ]
     },
     "execution_count": 18,
     "metadata": {},
     "output_type": "execute_result"
    }
   ],
   "source": [
    "# Calculate the correlation of 'Element Code' with each of the years 2014, 2015, 2016, and 2017\n",
    "correlation_with_element_code = df[['Element Code', 'Y2014', 'Y2015', 'Y2016', 'Y2017']].corr()['Element Code']\n",
    "\n",
    "# Drop the correlation of 'Element Code' with itself\n",
    "correlation_with_element_code = correlation_with_element_code.drop('Element Code')\n",
    "\n",
    "# Find the year with the least correlation\n",
    "least_correlation_year = correlation_with_element_code.idxmin()\n",
    "\n",
    "least_correlation_year, correlation_with_element_code[least_correlation_year]\n"
   ]
  },
  {
   "cell_type": "code",
   "execution_count": 19,
   "id": "964876ea-941b-4291-b25a-7b92c5b15d00",
   "metadata": {},
   "outputs": [
    {
     "data": {
      "text/plain": [
       "(60943, 12)"
      ]
     },
     "execution_count": 19,
     "metadata": {},
     "output_type": "execute_result"
    }
   ],
   "source": [
    "df.shape"
   ]
  },
  {
   "cell_type": "code",
   "execution_count": 21,
   "id": "481d2ec1-b5cf-409a-867a-e80f06039cca",
   "metadata": {},
   "outputs": [],
   "source": [
    "y = [(2, 4), (7, 8), (1, 5, 9)]"
   ]
  },
  {
   "cell_type": "code",
   "execution_count": 26,
   "id": "0f0bf99b-c70e-4f1d-862d-bb123c7d9b4c",
   "metadata": {},
   "outputs": [
    {
     "data": {
      "text/plain": [
       "7"
      ]
     },
     "execution_count": 26,
     "metadata": {},
     "output_type": "execute_result"
    }
   ],
   "source": [
    "x = y[1][-1]\n",
    "x"
   ]
  },
  {
   "cell_type": "code",
   "execution_count": 27,
   "id": "096bddfc-10cd-4577-8956-60f8f1d89fab",
   "metadata": {},
   "outputs": [
    {
     "data": {
      "text/plain": [
       "292836.0"
      ]
     },
     "execution_count": 27,
     "metadata": {},
     "output_type": "execute_result"
    }
   ],
   "source": [
    "# Perform a groupby operation on 'Element' and sum the values for the year 2017\n",
    "processing_sum_2017 = df[df['Element'] == 'Processing']['Y2017'].sum()\n",
    "processing_sum_2017\n"
   ]
  },
  {
   "cell_type": "code",
   "execution_count": 28,
   "id": "088ebefc-99fe-4f57-b516-6d1efcce5499",
   "metadata": {},
   "outputs": [],
   "source": [
    "array  = ([[94, 89, 63],\n",
    "\n",
    "             [93, 92, 48],\n",
    "\n",
    "             [92, 94, 56]])"
   ]
  },
  {
   "cell_type": "code",
   "execution_count": 37,
   "id": "36f488e6-ae10-4205-a345-38dd826bf8d0",
   "metadata": {},
   "outputs": [
    {
     "ename": "TypeError",
     "evalue": "list indices must be integers or slices, not tuple",
     "output_type": "error",
     "traceback": [
      "\u001b[1;31m---------------------------------------------------------------------------\u001b[0m",
      "\u001b[1;31mTypeError\u001b[0m                                 Traceback (most recent call last)",
      "Cell \u001b[1;32mIn[37], line 1\u001b[0m\n\u001b[1;32m----> 1\u001b[0m \u001b[38;5;28mprint\u001b[39m(\u001b[43marray\u001b[49m\u001b[43m[\u001b[49m\u001b[43m:\u001b[49m\u001b[38;5;241;43m2\u001b[39;49m\u001b[43m,\u001b[49m\u001b[38;5;241;43m1\u001b[39;49m\u001b[43m:\u001b[49m\u001b[43m]\u001b[49m)\n",
      "\u001b[1;31mTypeError\u001b[0m: list indices must be integers or slices, not tuple"
     ]
    }
   ],
   "source": [
    "print(array[:2,1:])"
   ]
  },
  {
   "cell_type": "code",
   "execution_count": 38,
   "id": "9d7f65ad-453a-411b-9844-043517f593b8",
   "metadata": {},
   "outputs": [
    {
     "data": {
      "text/plain": [
       "49"
      ]
     },
     "execution_count": 38,
     "metadata": {},
     "output_type": "execute_result"
    }
   ],
   "source": [
    "# Calculate the total number of unique countries in the dataset\n",
    "unique_countries = df['Area'].nunique()\n",
    "unique_countries\n"
   ]
  },
  {
   "cell_type": "code",
   "execution_count": 40,
   "id": "8e6f1979-0846-41e5-bed3-d21a3c7f7f0c",
   "metadata": {},
   "outputs": [],
   "source": [
    "lst = [[35, 'Portugal', 94], [33, 'Argentina', 93], [30 , 'Brazil', 92]]\n",
    "\n",
    "col = ['Age','Nationality','Overall']"
   ]
  },
  {
   "cell_type": "code",
   "execution_count": 41,
   "id": "44d44829-8f75-4c00-88d7-e969e2f77e62",
   "metadata": {},
   "outputs": [
    {
     "data": {
      "text/html": [
       "<div>\n",
       "<style scoped>\n",
       "    .dataframe tbody tr th:only-of-type {\n",
       "        vertical-align: middle;\n",
       "    }\n",
       "\n",
       "    .dataframe tbody tr th {\n",
       "        vertical-align: top;\n",
       "    }\n",
       "\n",
       "    .dataframe thead th {\n",
       "        text-align: right;\n",
       "    }\n",
       "</style>\n",
       "<table border=\"1\" class=\"dataframe\">\n",
       "  <thead>\n",
       "    <tr style=\"text-align: right;\">\n",
       "      <th></th>\n",
       "      <th>Age</th>\n",
       "      <th>Nationality</th>\n",
       "      <th>Overall</th>\n",
       "    </tr>\n",
       "  </thead>\n",
       "  <tbody>\n",
       "    <tr>\n",
       "      <th>1</th>\n",
       "      <td>35</td>\n",
       "      <td>Portugal</td>\n",
       "      <td>94</td>\n",
       "    </tr>\n",
       "    <tr>\n",
       "      <th>2</th>\n",
       "      <td>33</td>\n",
       "      <td>Argentina</td>\n",
       "      <td>93</td>\n",
       "    </tr>\n",
       "    <tr>\n",
       "      <th>3</th>\n",
       "      <td>30</td>\n",
       "      <td>Brazil</td>\n",
       "      <td>92</td>\n",
       "    </tr>\n",
       "  </tbody>\n",
       "</table>\n",
       "</div>"
      ],
      "text/plain": [
       "   Age Nationality  Overall\n",
       "1   35    Portugal       94\n",
       "2   33   Argentina       93\n",
       "3   30      Brazil       92"
      ]
     },
     "execution_count": 41,
     "metadata": {},
     "output_type": "execute_result"
    }
   ],
   "source": [
    "pd.DataFrame(lst, columns=col, index=[1, 2, 3])"
   ]
  },
  {
   "cell_type": "code",
   "execution_count": 42,
   "id": "d9660a5a-ab89-4b73-8c3a-83485b5b7277",
   "metadata": {},
   "outputs": [
    {
     "data": {
      "text/plain": [
       "'Guinea-Bissau'"
      ]
     },
     "execution_count": 42,
     "metadata": {},
     "output_type": "execute_result"
    }
   ],
   "source": [
    "# Group the data by 'Area' and sum 'Y2017', then sort to find the 7th lowest sum\n",
    "grouped_by_area = df.groupby('Area')['Y2017'].sum().sort_values()\n",
    "\n",
    "# Get the 7th lowest sum's area name\n",
    "seventh_lowest_area = grouped_by_area.nsmallest(7).index[-1]\n",
    "seventh_lowest_area\n"
   ]
  },
  {
   "cell_type": "code",
   "execution_count": null,
   "id": "fcdbafff-2586-427e-804d-648a9dda0c60",
   "metadata": {},
   "outputs": [],
   "source": []
  }
 ],
 "metadata": {
  "kernelspec": {
   "display_name": "Python 3 (ipykernel)",
   "language": "python",
   "name": "python3"
  },
  "language_info": {
   "codemirror_mode": {
    "name": "ipython",
    "version": 3
   },
   "file_extension": ".py",
   "mimetype": "text/x-python",
   "name": "python",
   "nbconvert_exporter": "python",
   "pygments_lexer": "ipython3",
   "version": "3.9.18"
  }
 },
 "nbformat": 4,
 "nbformat_minor": 5
}
